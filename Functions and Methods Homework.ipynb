{
 "cells": [
  {
   "cell_type": "code",
   "execution_count": 67,
   "id": "154e8694-fc62-408c-838e-081f1289d0aa",
   "metadata": {},
   "outputs": [
    {
     "data": {
      "text/plain": [
       "33.49333333333333"
      ]
     },
     "execution_count": 67,
     "metadata": {},
     "output_type": "execute_result"
    }
   ],
   "source": [
    "# Check\n",
    "vol(2)"
   ]
  },
  {
   "cell_type": "code",
   "execution_count": 68,
   "id": "d5d070c8-8751-4e1f-b149-2d1c2e6cfe54",
   "metadata": {},
   "outputs": [],
   "source": [
    "# Write a function that checks whether a number is in a given range (inclusive of high and low) returns language answer\n",
    "\n",
    "def ran_check(num,low,high):\n",
    "    if low<num<high:\n",
    "        print (f\"{num} is in the range between {low} and {high}\")\n",
    "    else:\n",
    "        print (f\"{num} is not in the range between {low} and {high}\")\n"
   ]
  },
  {
   "cell_type": "code",
   "execution_count": 69,
   "id": "8da45832-6692-4d1e-906a-32af578e3314",
   "metadata": {},
   "outputs": [
    {
     "name": "stdout",
     "output_type": "stream",
     "text": [
      "5 is in the range between 2 and 7\n"
     ]
    }
   ],
   "source": [
    "# Check\n",
    "ran_check(5,2,7)"
   ]
  },
  {
   "cell_type": "code",
   "execution_count": 70,
   "id": "da323262-c7e1-4047-86ad-d74dfa0ae462",
   "metadata": {},
   "outputs": [],
   "source": [
    "# Write a function that checks whether a number is in a given range (inclusive of high and low) returns boolean\n",
    "\n",
    "def ran_bool(num,low,high):\n",
    "    if low<num<high:\n",
    "        return True\n",
    "    else:\n",
    "        return False"
   ]
  },
  {
   "cell_type": "code",
   "execution_count": 71,
   "id": "0ad9d0ab-f5d9-4197-ae74-3d92ee37567d",
   "metadata": {},
   "outputs": [
    {
     "data": {
      "text/plain": [
       "True"
      ]
     },
     "execution_count": 71,
     "metadata": {},
     "output_type": "execute_result"
    }
   ],
   "source": [
    "ran_bool(3,1,10)"
   ]
  },
  {
   "cell_type": "code",
   "execution_count": 72,
   "id": "3a8278fc-e015-4992-97a8-af2fcf96ab13",
   "metadata": {},
   "outputs": [],
   "source": [
    "str='Pwrd4Acct Python'"
   ]
  },
  {
   "cell_type": "code",
   "execution_count": 73,
   "id": "e8724c2d-0f24-4378-8e96-ea0f17d1da0c",
   "metadata": {},
   "outputs": [
    {
     "name": "stdout",
     "output_type": "stream",
     "text": [
      "False\n"
     ]
    }
   ],
   "source": [
    "print(str.isupper())"
   ]
  },
  {
   "cell_type": "code",
   "execution_count": 74,
   "id": "6aae21be-c98c-4576-9990-365e403af93d",
   "metadata": {},
   "outputs": [
    {
     "name": "stdout",
     "output_type": "stream",
     "text": [
      "['P', 'w', 'r', 'd', '4', 'A', 'c', 'c', 't', ' ', 'P', 'y', 't', 'h', 'o', 'n']\n"
     ]
    }
   ],
   "source": [
    "print([*str])"
   ]
  },
  {
   "cell_type": "code",
   "execution_count": 75,
   "id": "25092a8e-51e5-44cc-b4da-26f40c00a7c1",
   "metadata": {},
   "outputs": [],
   "source": [
    "# Write a Python function that accepts a string and calculates the number of upper case letters and lower case letters.\n",
    "\n",
    "def up_low(s):\n",
    "\n",
    "    # made a list of all the characters in the string\n",
    "    my_list=[*s]\n",
    "\n",
    "    # lists for keeping the upper and lower case characters\n",
    "    up_list=[]\n",
    "    low_list=[]\n",
    "\n",
    "    # Loop through the list to chech which chharater is upper case and lower case and keep in the respective list\n",
    "    for items in my_list:\n",
    "        if items.isupper():\n",
    "            up_list.append(items)\n",
    "        elif items.islower():\n",
    "            low_list.append(items)\n",
    "\n",
    "    # Output result\n",
    "    print (f'Original String :  {s}')        \n",
    "    print (f'No. of Upper case characters :  {len(up_list)}')\n",
    "    print (f'No. of Lower case Characters :  {len(low_list)}')\n",
    "    "
   ]
  },
  {
   "cell_type": "code",
   "execution_count": 76,
   "id": "ca26d347-67a3-43fc-b89a-c4f510b5c970",
   "metadata": {},
   "outputs": [
    {
     "name": "stdout",
     "output_type": "stream",
     "text": [
      "Original String :  Hello Mr. Rogers, how are you this fine Tuesday?\n",
      "No. of Upper case characters :  4\n",
      "No. of Lower case Characters :  33\n"
     ]
    }
   ],
   "source": [
    "s = 'Hello Mr. Rogers, how are you this fine Tuesday?'\n",
    "up_low(s)"
   ]
  },
  {
   "cell_type": "code",
   "execution_count": 77,
   "id": "b2a0ab63-b5a5-4a02-acad-77bda5853979",
   "metadata": {},
   "outputs": [],
   "source": [
    "# Write a Python function that takes a list and returns a new list with unique elements of the first list.\n",
    "\n",
    "def unique_list(lst):\n",
    "    return set(lst)"
   ]
  },
  {
   "cell_type": "code",
   "execution_count": 78,
   "id": "87d76acf-f58d-41ce-a6e2-e43a0b1acf58",
   "metadata": {},
   "outputs": [
    {
     "data": {
      "text/plain": [
       "{1, 2, 3, 4, 5}"
      ]
     },
     "execution_count": 78,
     "metadata": {},
     "output_type": "execute_result"
    }
   ],
   "source": [
    "unique_list([1,1,1,1,2,2,3,3,3,3,4,5])"
   ]
  },
  {
   "cell_type": "code",
   "execution_count": 80,
   "id": "a5f958b7-7b50-4b94-9e19-e404e3ea9137",
   "metadata": {},
   "outputs": [],
   "source": [
    "# Write a Python function to multiply all the numbers in a list.\n",
    "\n",
    "def multiply(numbers):  \n",
    "    my_ans=1\n",
    "    for items in numbers:\n",
    "        my_ans=my_ans*items\n",
    "    return my_ans"
   ]
  },
  {
   "cell_type": "code",
   "execution_count": 85,
   "id": "f8c00736-bad0-466d-a222-506bee0fcdb4",
   "metadata": {},
   "outputs": [
    {
     "data": {
      "text/plain": [
       "78"
      ]
     },
     "execution_count": 85,
     "metadata": {},
     "output_type": "execute_result"
    }
   ],
   "source": [
    "multiply([1,-2,-3,13])"
   ]
  },
  {
   "cell_type": "code",
   "execution_count": 101,
   "id": "b0b56945-f369-441b-a5aa-e91c5ceb9d86",
   "metadata": {},
   "outputs": [],
   "source": [
    "# Write a Python function that checks whether a word or phrase is palindrome or not.\n",
    "\n",
    "def palindrome(s):\n",
    "\n",
    "    # removing spaces\n",
    "    s=s.replace(' ','')\n",
    "\n",
    "    # reversing the string\n",
    "    s_rev=s[::-1]\n",
    "\n",
    "    # Checking if reversed strng == original strng\n",
    "    if s==s_rev:\n",
    "        return True\n",
    "    else:\n",
    "        return False\n"
   ]
  },
  {
   "cell_type": "code",
   "execution_count": 103,
   "id": "a52a5ea7-65b9-4c67-ada3-bbec24b2b782",
   "metadata": {},
   "outputs": [
    {
     "data": {
      "text/plain": [
       "True"
      ]
     },
     "execution_count": 103,
     "metadata": {},
     "output_type": "execute_result"
    }
   ],
   "source": [
    "palindrome('nurses run')"
   ]
  },
  {
   "cell_type": "code",
   "execution_count": 104,
   "id": "9ed2bcb7-5d8f-477e-ac6d-405385843cb5",
   "metadata": {},
   "outputs": [
    {
     "data": {
      "text/plain": [
       "'abcdefghijklmnopqrstuvwxyz'"
      ]
     },
     "execution_count": 104,
     "metadata": {},
     "output_type": "execute_result"
    }
   ],
   "source": [
    "import string\n",
    "string.ascii_lowercase"
   ]
  },
  {
   "cell_type": "code",
   "execution_count": 109,
   "id": "297d7b6a-699c-4522-90f8-6e30300ee93d",
   "metadata": {},
   "outputs": [
    {
     "data": {
      "text/plain": [
       "True"
      ]
     },
     "execution_count": 109,
     "metadata": {},
     "output_type": "execute_result"
    }
   ],
   "source": [
    "a=(1,2,3,4,5)\n",
    "b=(2,5,3,4,1)\n",
    "c=set(a)\n",
    "d=set(b)\n",
    "c==d\n"
   ]
  },
  {
   "cell_type": "code",
   "execution_count": 120,
   "id": "e0d5c96f-a977-4429-bee5-0d956c9d8159",
   "metadata": {},
   "outputs": [],
   "source": [
    "# Write a Python function to check whether a string is pangram or not. (Assume the string passed in does not have any punctuation)\n",
    "\n",
    "def ispangram(str1, alphabet=string.ascii_lowercase):\n",
    "\n",
    "    # removing spaces from the input string\n",
    "    str1=str1.replace(' ','')\n",
    "\n",
    "    #making all the chars in the given strings into lower case for comparison with alphabets in lower case\n",
    "    str1=str1.lower()\n",
    "    \n",
    "    #Creating a set with unique characrters in the given string\n",
    "    str1=set(str1)\n",
    "    alphabet=set(alphabet)\n",
    "\n",
    "    if str1==alphabet:\n",
    "        return True\n",
    "    else:\n",
    "        return False\n"
   ]
  },
  {
   "cell_type": "code",
   "execution_count": 122,
   "id": "8976d600-13f9-4066-ad6c-42fced43d7b6",
   "metadata": {},
   "outputs": [
    {
     "data": {
      "text/plain": [
       "False"
      ]
     },
     "execution_count": 122,
     "metadata": {},
     "output_type": "execute_result"
    }
   ],
   "source": [
    "ispangram(\"The brown fox jumps over the lazy dog\")"
   ]
  },
  {
   "cell_type": "code",
   "execution_count": null,
   "id": "97ef89a2-6170-4859-a973-0a5925361aae",
   "metadata": {},
   "outputs": [],
   "source": []
  }
 ],
 "metadata": {
  "kernelspec": {
   "display_name": "Python 3 (ipykernel)",
   "language": "python",
   "name": "python3"
  },
  "language_info": {
   "codemirror_mode": {
    "name": "ipython",
    "version": 3
   },
   "file_extension": ".py",
   "mimetype": "text/x-python",
   "name": "python",
   "nbconvert_exporter": "python",
   "pygments_lexer": "ipython3",
   "version": "3.12.0"
  }
 },
 "nbformat": 4,
 "nbformat_minor": 5
}
