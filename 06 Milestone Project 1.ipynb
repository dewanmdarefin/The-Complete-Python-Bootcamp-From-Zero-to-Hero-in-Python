{
 "cells": [
  {
   "cell_type": "code",
   "execution_count": 1,
   "id": "ab76f2a3-3332-4551-aef3-4ae65b0b714c",
   "metadata": {},
   "outputs": [],
   "source": [
    "# this is a function for displaying the tic tac toe board\n",
    "def display_board(board):\n",
    "    print ('   ' + '|' + '   ' + '|' + '   ')\n",
    "    print (' ' + board[7] + ' ' + '|' + ' ' + board[8] + ' '  + '|' + ' ' + board[9] + ' ' )\n",
    "    print ('   ' + '|' + '   ' + '|' + '   ')\n",
    "    print('-----------')\n",
    "    print ('   ' + '|' + '   ' + '|' + '   ')\n",
    "    print (' ' + board[4] + ' ' + '|' + ' ' + board[5] + ' '  + '|' + ' ' + board[6] + ' ' )\n",
    "    print ('   ' + '|' + '   ' + '|' + '   ')\n",
    "    print('-----------')\n",
    "    print ('   ' + '|' + '   ' + '|' + '   ')\n",
    "    print (' ' + board[1] + ' ' + '|' + ' ' + board[2] + ' '  + '|' + ' ' + board[3] + ' ' )\n",
    "    print ('   ' + '|' + '   ' + '|' + '   ')\n",
    "    "
   ]
  },
  {
   "cell_type": "code",
   "execution_count": 2,
   "id": "799393ea-8641-467f-a239-9cdc195b15a2",
   "metadata": {},
   "outputs": [],
   "source": [
    "# function for taking input and assingning markers to the players\n",
    "def player_input():\n",
    "    marker = ''\n",
    "\n",
    "    # Keep asking until valid input is given\n",
    "    while marker != 'X' and marker != 'O':\n",
    "        marker = input('Player 1 choose X or O:')\n",
    "\n",
    "    # Assign player 2 the opposite marker\n",
    "    Player_1 = marker\n",
    "    if Player_1 == 'X':\n",
    "        Player_2 = 'O'\n",
    "    else: \n",
    "        Player_2 = 'X'\n",
    "    return (Player_1,Player_2)\n",
    "    \n",
    "    \n",
    "        \n",
    "    "
   ]
  },
  {
   "cell_type": "code",
   "execution_count": 3,
   "id": "1983b865-3570-445d-a5b9-b946accde31d",
   "metadata": {},
   "outputs": [],
   "source": [
    "# function that takes in the board list object, a marker ('X' or 'O'), and a desired position (number 1-9) and assigns it to the board\n",
    "def place_marker(board, marker, position):\n",
    "    \n",
    "    board[position] = marker\n",
    "    \n",
    "    \n",
    "    "
   ]
  },
  {
   "cell_type": "code",
   "execution_count": 4,
   "id": "a9a4a9ae-13a6-464b-802e-7bf2ea9d114c",
   "metadata": {},
   "outputs": [],
   "source": [
    "# function that takes in a board and a mark (X or O) and then checks to see if that mark has won\n",
    "def win_check(board, mark):\n",
    "    if  board[1]==board[2]==board[3]==mark or board[4]==board[5]==board[6]==mark or board[7]==board[8]==board[9]==mark or board[1]==board[4]==board[7]==mark or board[2]==board[5]==board[8]==mark or board[3]==board[6]==board[9]==mark or board[3]==board[5]==board[7]==mark or board[1]==board[5]==board[9]==mark:\n",
    "        return True\n",
    "    else:\n",
    "        return False"
   ]
  },
  {
   "cell_type": "code",
   "execution_count": 5,
   "id": "e470aea4-ec3c-4117-9083-bccb022cee55",
   "metadata": {},
   "outputs": [],
   "source": [
    "# function that uses the random module to randomly decide which player goes first\n",
    "\n",
    "import random\n",
    "\n",
    "def choose_first():\n",
    "    choose_first=random.randint(1,2)\n",
    "    if choose_first==1:\n",
    "     return 'Player 1'\n",
    "    else:\n",
    "      return 'Player 2'"
   ]
  },
  {
   "cell_type": "code",
   "execution_count": 6,
   "id": "f7c11522-d4f1-4f94-a8e2-493538c30306",
   "metadata": {},
   "outputs": [],
   "source": [
    "# function that returns a boolean indicating whether a space on the board is freely available.\n",
    "def space_check(board, position):\n",
    "    if board[position]==' ':\n",
    "        return True\n",
    "    else:\n",
    "        return False"
   ]
  },
  {
   "cell_type": "code",
   "execution_count": 7,
   "id": "b5a627c6-d171-4706-a96e-982bacc3df0a",
   "metadata": {},
   "outputs": [],
   "source": [
    "#  function that checks if the board is full and returns a boolean value\n",
    "def full_board_check(board):\n",
    "    for i in range (1,10):\n",
    "        if space_check(board,i):\n",
    "            return False\n",
    "\n",
    "    return True\n"
   ]
  },
  {
   "cell_type": "code",
   "execution_count": 8,
   "id": "377707cf-ab21-44b2-91c4-4fcd8be081ce",
   "metadata": {},
   "outputs": [],
   "source": [
    "#  function that asks for a player's next position (as a number 1-9) \n",
    "def player_choice(board):\n",
    "     position = 0\n",
    "     # keep asking until valid input is given\n",
    "     while position < 1 or position > 9:\n",
    "        position = int(input('Choose your next position,must be between 1 and 9 :'))\n",
    "         # checking if position is free\n",
    "        if space_check(board,position):\n",
    "            return position\n",
    "        else:\n",
    "             position = int(input('Invalid position, Choose your next position again: (1-9)'))\n",
    "    \n",
    "    \n"
   ]
  },
  {
   "cell_type": "code",
   "execution_count": 9,
   "id": "d2b3326e-edf1-4aa2-9bbf-6280b9bae6b4",
   "metadata": {},
   "outputs": [],
   "source": [
    "# function that asks the player if they want to play again\n",
    "def replay():\n",
    "    replay=input('Want to play again? Enter only Yes or No : ')\n",
    "    if replay.lower()[0]=='y':\n",
    "        return True\n",
    "    else:\n",
    "        return False\n",
    "    \n",
    "    "
   ]
  },
  {
   "cell_type": "code",
   "execution_count": null,
   "id": "394abdf6-f7d1-4e8a-88b0-3e0795516a57",
   "metadata": {},
   "outputs": [
    {
     "name": "stdout",
     "output_type": "stream",
     "text": [
      "   |   |   \n",
      " O | O | X \n",
      "   |   |   \n",
      "-----------\n",
      "   |   |   \n",
      "   | X | O \n",
      "   |   |   \n",
      "-----------\n",
      "   |   |   \n",
      " O | X | X \n",
      "   |   |   \n"
     ]
    },
    {
     "name": "stdin",
     "output_type": "stream",
     "text": [
      "Choose your next position,must be between 1 and 9 : 4\n"
     ]
    },
    {
     "name": "stdout",
     "output_type": "stream",
     "text": [
      "   |   |   \n",
      " O | O | X \n",
      "   |   |   \n",
      "-----------\n",
      "   |   |   \n",
      " X | X | O \n",
      "   |   |   \n",
      "-----------\n",
      "   |   |   \n",
      " O | X | X \n",
      "   |   |   \n",
      "Oooops!!! The game has been drawn.\n"
     ]
    }
   ],
   "source": [
    "# Using while loops and the functions I've made to run the game!\n",
    "from IPython.display import clear_output\n",
    "print('Welcome to Tic Tac Toe!')\n",
    "while True:\n",
    "    # reset the game\n",
    "    the_board=[' ']*10 \n",
    "    player1_marker,player2_marker=player_input()\n",
    "    turn=choose_first()\n",
    "    print (turn+ ' will go first')\n",
    "    game_on=input('Are you ready to play? Enter only Yes or No : ')\n",
    "    if game_on.lower()[0]=='y':\n",
    "        game_on=True\n",
    "    else:\n",
    "        game_on=False\n",
    "    \n",
    "\n",
    "\n",
    "\n",
    "    while game_on:\n",
    "        if turn=='Player 1':\n",
    "            clear_output()\n",
    "            display_board(the_board)\n",
    "            position=player_choice(the_board)\n",
    "            place_marker(the_board,player1_marker,position)\n",
    "            if win_check(the_board,player1_marker):\n",
    "                display_board(the_board)\n",
    "                print('Congratulations!!! Player 1 has won the game.')\n",
    "                game_on=False\n",
    "            else:\n",
    "                if full_board_check(the_board):\n",
    "                    display_board(the_board)\n",
    "                    print('Oooops!!! The game has been drawn.')\n",
    "                    game_on=False\n",
    "            turn='Player 2'\n",
    "        else:\n",
    "            clear_output()\n",
    "            display_board(the_board)\n",
    "            position=player_choice(the_board)\n",
    "            place_marker(the_board,player2_marker,position)\n",
    "            if win_check(the_board,player2_marker):\n",
    "                display_board(the_board)\n",
    "                print('Congratulations!!! Player 2 has won the game.')\n",
    "                game_on=False\n",
    "            else:\n",
    "                if full_board_check(the_board):\n",
    "                    display_board(the_board)\n",
    "                    print('Oooops!!! The game has been drawn.')\n",
    "                    game_on=False\n",
    "            turn='Player 1'\n",
    "            \n",
    "        \n",
    "\n",
    "    if not replay():\n",
    "        break"
   ]
  },
  {
   "cell_type": "code",
   "execution_count": null,
   "id": "4627f6e7-37d1-41e3-9294-8268632d1313",
   "metadata": {},
   "outputs": [],
   "source": []
  }
 ],
 "metadata": {
  "kernelspec": {
   "display_name": "Python 3 (ipykernel)",
   "language": "python",
   "name": "python3"
  },
  "language_info": {
   "codemirror_mode": {
    "name": "ipython",
    "version": 3
   },
   "file_extension": ".py",
   "mimetype": "text/x-python",
   "name": "python",
   "nbconvert_exporter": "python",
   "pygments_lexer": "ipython3",
   "version": "3.12.0"
  }
 },
 "nbformat": 4,
 "nbformat_minor": 5
}
