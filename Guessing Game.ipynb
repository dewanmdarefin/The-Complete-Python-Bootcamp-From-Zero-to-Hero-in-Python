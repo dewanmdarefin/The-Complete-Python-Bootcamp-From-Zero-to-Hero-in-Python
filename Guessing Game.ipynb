{
 "cells": [
  {
   "cell_type": "code",
   "execution_count": 1,
   "id": "ebf04c8f-6274-404d-aab0-b756970a0b3d",
   "metadata": {},
   "outputs": [],
   "source": [
    "# Lets shuffle the list\n",
    "from random import shuffle\n",
    "def my_shuffle():\n",
    "    shuffle (my_list)\n",
    "    return my_list"
   ]
  },
  {
   "cell_type": "code",
   "execution_count": 4,
   "id": "0033af97-b9fb-4a32-b6cc-ba3851202ab3",
   "metadata": {},
   "outputs": [],
   "source": [
    "# Lets take a guess\n",
    "def user_guess():\n",
    "    guess=input ('Enter a guess between 0 to 2')\n",
    "    return int (guess)"
   ]
  },
  {
   "cell_type": "code",
   "execution_count": 11,
   "id": "825572bf-44eb-4b1a-8fd1-f71c3f82b0e7",
   "metadata": {},
   "outputs": [],
   "source": [
    "# Lets match it!\n",
    "def my_check (a,b):\n",
    "    if a[b]=='0':\n",
    "        print ('You Won')\n",
    "        print (a)\n",
    "    else:\n",
    "        print ('You Lost')\n",
    "        print (a)"
   ]
  },
  {
   "cell_type": "code",
   "execution_count": 13,
   "id": "3fa5ab09-a55e-4f22-b654-6e63652c8dde",
   "metadata": {},
   "outputs": [
    {
     "name": "stdin",
     "output_type": "stream",
     "text": [
      "Enter a guess between 0 to 2 1\n"
     ]
    },
    {
     "name": "stdout",
     "output_type": "stream",
     "text": [
      "You Lost\n",
      "['', '', '0']\n"
     ]
    }
   ],
   "source": [
    "my_list=['','0','']\n",
    "my_list=my_shuffle()\n",
    "guess=user_guess()\n",
    "my_check(my_list,guess)"
   ]
  },
  {
   "cell_type": "code",
   "execution_count": null,
   "id": "681e6bf4-acf6-4d97-81fd-f0a4a9e0f4a3",
   "metadata": {},
   "outputs": [],
   "source": []
  }
 ],
 "metadata": {
  "kernelspec": {
   "display_name": "Python 3 (ipykernel)",
   "language": "python",
   "name": "python3"
  },
  "language_info": {
   "codemirror_mode": {
    "name": "ipython",
    "version": 3
   },
   "file_extension": ".py",
   "mimetype": "text/x-python",
   "name": "python",
   "nbconvert_exporter": "python",
   "pygments_lexer": "ipython3",
   "version": "3.12.0"
  }
 },
 "nbformat": 4,
 "nbformat_minor": 5
}
