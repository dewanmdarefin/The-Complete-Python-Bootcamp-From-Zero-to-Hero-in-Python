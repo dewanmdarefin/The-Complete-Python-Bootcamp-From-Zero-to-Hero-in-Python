{
 "cells": [
  {
   "cell_type": "code",
   "execution_count": 4,
   "id": "323bb2f7-7f4e-46e1-9797-4760c79f7bd9",
   "metadata": {},
   "outputs": [],
   "source": [
    "# LESSER OF TWO EVENS: Write a function that returns the lesser of two given numbers if both numbers are even,but returns the greater if one or both numbers are odd\n",
    "def lesser_of_two_evens(a,b):\n",
    "    if a%2==0 and b%2==0:\n",
    "        return min(a,b)\n",
    "    else:\n",
    "        return max(a,b)\n",
    "        "
   ]
  },
  {
   "cell_type": "code",
   "execution_count": 5,
   "id": "6a5e4f8a-75a3-4101-bad3-032039bd495c",
   "metadata": {},
   "outputs": [
    {
     "data": {
      "text/plain": [
       "2"
      ]
     },
     "execution_count": 5,
     "metadata": {},
     "output_type": "execute_result"
    }
   ],
   "source": [
    "lesser_of_two_evens(2,4)"
   ]
  },
  {
   "cell_type": "code",
   "execution_count": 6,
   "id": "5a2ee5e7-3813-4483-8dd3-b5b641c91fff",
   "metadata": {},
   "outputs": [
    {
     "data": {
      "text/plain": [
       "5"
      ]
     },
     "execution_count": 6,
     "metadata": {},
     "output_type": "execute_result"
    }
   ],
   "source": [
    "lesser_of_two_evens(2,5)"
   ]
  },
  {
   "cell_type": "code",
   "execution_count": 12,
   "id": "59586507-f2d9-4fe2-bbf9-60e9e11a3cbb",
   "metadata": {},
   "outputs": [],
   "source": [
    "mytxt='holly molly'\n",
    "z= mytxt.split()"
   ]
  },
  {
   "cell_type": "code",
   "execution_count": 13,
   "id": "d17a3e13-b508-413e-9edb-f6d468d509c3",
   "metadata": {},
   "outputs": [
    {
     "data": {
      "text/plain": [
       "'h'"
      ]
     },
     "execution_count": 13,
     "metadata": {},
     "output_type": "execute_result"
    }
   ],
   "source": [
    "z[0][0]"
   ]
  },
  {
   "cell_type": "code",
   "execution_count": 14,
   "id": "68af76c9-641e-40d5-b9af-c22e7b46218b",
   "metadata": {},
   "outputs": [
    {
     "data": {
      "text/plain": [
       "'m'"
      ]
     },
     "execution_count": 14,
     "metadata": {},
     "output_type": "execute_result"
    }
   ],
   "source": [
    "z[1][0]"
   ]
  },
  {
   "cell_type": "code",
   "execution_count": 15,
   "id": "cb746540-8d01-4c2a-b795-3c72ee85888c",
   "metadata": {},
   "outputs": [],
   "source": [
    "# ANIMAL CRACKERS: Write a function takes a two-word string and returns True if both words begin with same letter\n",
    "def animal_crackers(text):\n",
    "    text=text.split()\n",
    "    if text[0][0]==text[1][0]:\n",
    "        return True\n",
    "    else:\n",
    "        return False\n",
    "    \n",
    "    "
   ]
  },
  {
   "cell_type": "code",
   "execution_count": 16,
   "id": "f7a53680-b1bb-4505-8471-e69f2c46ad66",
   "metadata": {},
   "outputs": [
    {
     "data": {
      "text/plain": [
       "True"
      ]
     },
     "execution_count": 16,
     "metadata": {},
     "output_type": "execute_result"
    }
   ],
   "source": [
    "# Check\n",
    "animal_crackers('Levelheaded Llama')"
   ]
  },
  {
   "cell_type": "code",
   "execution_count": 17,
   "id": "bbfac265-11b1-427b-adf4-11e1ee152a4e",
   "metadata": {},
   "outputs": [
    {
     "data": {
      "text/plain": [
       "False"
      ]
     },
     "execution_count": 17,
     "metadata": {},
     "output_type": "execute_result"
    }
   ],
   "source": [
    "# Check\n",
    "animal_crackers('Crazy Kangaroo')"
   ]
  },
  {
   "cell_type": "code",
   "execution_count": 18,
   "id": "458c5370-a64a-4ed1-81eb-d25bf13967eb",
   "metadata": {},
   "outputs": [],
   "source": [
    "# MAKES TWENTY: Given two integers, return True if the sum of the integers is 20 or if one of the integers is 20. If not, return False\n",
    "def makes_twenty(n1,n2):\n",
    "    if (n1+n2==20) or (n1 or n2) ==20:\n",
    "        return True\n",
    "    else:\n",
    "        return False"
   ]
  },
  {
   "cell_type": "code",
   "execution_count": 19,
   "id": "565a7c4c-aaf6-496f-ad4f-409de2a64d95",
   "metadata": {},
   "outputs": [
    {
     "data": {
      "text/plain": [
       "True"
      ]
     },
     "execution_count": 19,
     "metadata": {},
     "output_type": "execute_result"
    }
   ],
   "source": [
    "# Check\n",
    "makes_twenty(20,10)"
   ]
  },
  {
   "cell_type": "code",
   "execution_count": 20,
   "id": "29a180bd-b3bd-4250-9ec8-9929819daaa3",
   "metadata": {},
   "outputs": [
    {
     "data": {
      "text/plain": [
       "False"
      ]
     },
     "execution_count": 20,
     "metadata": {},
     "output_type": "execute_result"
    }
   ],
   "source": [
    "# Check\n",
    "makes_twenty(2,3)"
   ]
  },
  {
   "cell_type": "code",
   "execution_count": 21,
   "id": "7c7403c8-0a32-48e3-9ebd-b83838295987",
   "metadata": {},
   "outputs": [
    {
     "data": {
      "text/plain": [
       "True"
      ]
     },
     "execution_count": 21,
     "metadata": {},
     "output_type": "execute_result"
    }
   ],
   "source": [
    "makes_twenty(12,8)"
   ]
  },
  {
   "cell_type": "code",
   "execution_count": 7,
   "id": "3bd98d12-a35e-451f-8ed9-bf461190fd46",
   "metadata": {},
   "outputs": [],
   "source": [
    "a='hello'\n"
   ]
  },
  {
   "cell_type": "code",
   "execution_count": 8,
   "id": "173cbb57-ce7e-4671-9f84-bdbe2828b064",
   "metadata": {},
   "outputs": [
    {
     "data": {
      "text/plain": [
       "5"
      ]
     },
     "execution_count": 8,
     "metadata": {},
     "output_type": "execute_result"
    }
   ],
   "source": [
    "len(a)"
   ]
  },
  {
   "cell_type": "code",
   "execution_count": 16,
   "id": "b548a6be-60f1-4890-af10-71be093768d9",
   "metadata": {},
   "outputs": [],
   "source": [
    "# OLD MACDONALD: Write a function that capitalizes the first and fourth letters of a name\n",
    "\n",
    "def old_macdonald(name):\n",
    "    if len(name)>3:\n",
    "        return name[:3].capitalize()+name[3:].capitalize()\n",
    "    else:\n",
    "        return 'short name'\n",
    "    \n"
   ]
  },
  {
   "cell_type": "code",
   "execution_count": 19,
   "id": "9d2b03f6-0d5f-4d85-9e4f-eda58be14f6d",
   "metadata": {},
   "outputs": [
    {
     "data": {
      "text/plain": [
       "'short name'"
      ]
     },
     "execution_count": 19,
     "metadata": {},
     "output_type": "execute_result"
    }
   ],
   "source": [
    "# Check\n",
    "old_macdonald('mac')"
   ]
  },
  {
   "cell_type": "code",
   "execution_count": 20,
   "id": "1074e6ec-9cd4-43c7-934d-9f24a5e08eb7",
   "metadata": {},
   "outputs": [],
   "source": [
    "a='I am home'"
   ]
  },
  {
   "cell_type": "code",
   "execution_count": 21,
   "id": "85f0722e-0992-4f30-b2ff-d285dc3cc84c",
   "metadata": {},
   "outputs": [
    {
     "data": {
      "text/plain": [
       "'I am home'"
      ]
     },
     "execution_count": 21,
     "metadata": {},
     "output_type": "execute_result"
    }
   ],
   "source": [
    "a"
   ]
  },
  {
   "cell_type": "code",
   "execution_count": 28,
   "id": "eb444061-b525-4871-93c8-dc74400f7aee",
   "metadata": {},
   "outputs": [],
   "source": [
    "b=a.split()"
   ]
  },
  {
   "cell_type": "code",
   "execution_count": 40,
   "id": "5714d29b-501e-4285-a4bd-c6e322782c99",
   "metadata": {},
   "outputs": [
    {
     "data": {
      "text/plain": [
       "'home am I'"
      ]
     },
     "execution_count": 40,
     "metadata": {},
     "output_type": "execute_result"
    }
   ],
   "source": [
    "' '.join(b[::-1])"
   ]
  },
  {
   "cell_type": "code",
   "execution_count": 46,
   "id": "8efb2e14-77ae-491a-a122-700344f68386",
   "metadata": {},
   "outputs": [],
   "source": [
    "# MASTER YODA: Given a sentence, return a sentence with the words reversed\n",
    "def master_yoda(text):\n",
    "    text=text.split()\n",
    "    return ' '.join(text[::-1])\n",
    "    "
   ]
  },
  {
   "cell_type": "code",
   "execution_count": 47,
   "id": "7caa4240-b61a-454d-8bea-e4ccb97c737a",
   "metadata": {},
   "outputs": [
    {
     "data": {
      "text/plain": [
       "'home am I'"
      ]
     },
     "execution_count": 47,
     "metadata": {},
     "output_type": "execute_result"
    }
   ],
   "source": [
    "# Check\n",
    "master_yoda('I am home')"
   ]
  },
  {
   "cell_type": "code",
   "execution_count": 48,
   "id": "bbfc72fe-4934-4953-8ff7-ea597eb315d9",
   "metadata": {},
   "outputs": [
    {
     "data": {
      "text/plain": [
       "'ready are We'"
      ]
     },
     "execution_count": 48,
     "metadata": {},
     "output_type": "execute_result"
    }
   ],
   "source": [
    "# Check\n",
    "master_yoda('We are ready')"
   ]
  },
  {
   "cell_type": "code",
   "execution_count": 57,
   "id": "bf93ff84-a0bb-46e6-b7d8-0407562eaaf1",
   "metadata": {},
   "outputs": [
    {
     "name": "stdout",
     "output_type": "stream",
     "text": [
      "mola\n"
     ]
    }
   ],
   "source": [
    "x= 144\n",
    "x=x-100\n",
    "if abs(x)<11:\n",
    "     print ('hola')\n",
    "else:\n",
    "    print ('mola')\n"
   ]
  },
  {
   "cell_type": "code",
   "execution_count": 62,
   "id": "dc72ecc9-a6c5-4ef7-b851-e839874958b5",
   "metadata": {},
   "outputs": [],
   "source": [
    "# ALMOST THERE: Given an integer n, return True if n is within 10 of either 100 or 200\n",
    "def almost_there(n):\n",
    "    n1=n-100\n",
    "    n2=n-200\n",
    "    if abs(n1)<11 or abs(n2)<11:\n",
    "         return True    \n",
    "    else:\n",
    "        return False\n",
    "    "
   ]
  },
  {
   "cell_type": "code",
   "execution_count": 63,
   "id": "5cb90244-8951-4227-b4d8-1ce0b596df3e",
   "metadata": {},
   "outputs": [
    {
     "data": {
      "text/plain": [
       "True"
      ]
     },
     "execution_count": 63,
     "metadata": {},
     "output_type": "execute_result"
    }
   ],
   "source": [
    "# Check\n",
    "almost_there(104)"
   ]
  },
  {
   "cell_type": "code",
   "execution_count": 64,
   "id": "f213a572-ab0d-47b6-960f-abb3c260c708",
   "metadata": {},
   "outputs": [
    {
     "data": {
      "text/plain": [
       "False"
      ]
     },
     "execution_count": 64,
     "metadata": {},
     "output_type": "execute_result"
    }
   ],
   "source": [
    "# Check\n",
    "almost_there(150)"
   ]
  },
  {
   "cell_type": "code",
   "execution_count": 65,
   "id": "ef33d7c1-1597-482b-8604-19f2ef2d9db3",
   "metadata": {},
   "outputs": [
    {
     "data": {
      "text/plain": [
       "True"
      ]
     },
     "execution_count": 65,
     "metadata": {},
     "output_type": "execute_result"
    }
   ],
   "source": [
    "almost_there(90)"
   ]
  },
  {
   "cell_type": "code",
   "execution_count": 70,
   "id": "979f9f1e-5967-4048-9667-9979b67acb49",
   "metadata": {},
   "outputs": [
    {
     "data": {
      "text/plain": [
       "True"
      ]
     },
     "execution_count": 70,
     "metadata": {},
     "output_type": "execute_result"
    }
   ],
   "source": [
    "almost_there(190)"
   ]
  },
  {
   "cell_type": "code",
   "execution_count": 71,
   "id": "c4e7cbcf-ee28-435b-a895-a9d0c3dc1729",
   "metadata": {},
   "outputs": [],
   "source": [
    "mylist=[1,3,3,1]"
   ]
  },
  {
   "cell_type": "code",
   "execution_count": 76,
   "id": "f90fda4d-db9d-4ad9-88e8-e20f877e4fd6",
   "metadata": {},
   "outputs": [
    {
     "data": {
      "text/plain": [
       "4"
      ]
     },
     "execution_count": 76,
     "metadata": {},
     "output_type": "execute_result"
    }
   ],
   "source": [
    "len(mylist)"
   ]
  },
  {
   "cell_type": "code",
   "execution_count": 80,
   "id": "17a514a8-9dff-4f04-84d7-e82f11eb0405",
   "metadata": {},
   "outputs": [
    {
     "name": "stdout",
     "output_type": "stream",
     "text": [
      "33\n"
     ]
    }
   ],
   "source": [
    "for i in range (1,len(mylist)):\n",
    "    if mylist[i-1]==mylist[i]:\n",
    "        print ('33')"
   ]
  },
  {
   "cell_type": "code",
   "execution_count": 83,
   "id": "a50b6f1a-1523-4c70-a1c5-119b41da86d2",
   "metadata": {},
   "outputs": [],
   "source": [
    "# FIND 33:\n",
    "def has_33(nums):\n",
    "    for i in range (1,len(nums)):\n",
    "        if nums[i-1]==nums[i]:\n",
    "            return True\n",
    "    else:\n",
    "        return False\n",
    "    "
   ]
  },
  {
   "cell_type": "code",
   "execution_count": 84,
   "id": "6fd3c570-4cba-4241-952a-b83d6c77c04c",
   "metadata": {},
   "outputs": [
    {
     "data": {
      "text/plain": [
       "True"
      ]
     },
     "execution_count": 84,
     "metadata": {},
     "output_type": "execute_result"
    }
   ],
   "source": [
    "has_33([1, 3, 3])"
   ]
  },
  {
   "cell_type": "code",
   "execution_count": 85,
   "id": "fdfd514a-bbe4-4985-af4a-3956a6ea4a30",
   "metadata": {},
   "outputs": [
    {
     "data": {
      "text/plain": [
       "False"
      ]
     },
     "execution_count": 85,
     "metadata": {},
     "output_type": "execute_result"
    }
   ],
   "source": [
    "# Check\n",
    "has_33([1, 3, 1, 3])"
   ]
  },
  {
   "cell_type": "code",
   "execution_count": 88,
   "id": "c82f5511-c32d-487f-9796-c1c74681b375",
   "metadata": {},
   "outputs": [
    {
     "data": {
      "text/plain": [
       "True"
      ]
     },
     "execution_count": 88,
     "metadata": {},
     "output_type": "execute_result"
    }
   ],
   "source": [
    "# Check\n",
    "has_33([3,3, 1, 3,3])"
   ]
  },
  {
   "cell_type": "code",
   "execution_count": 2,
   "id": "c777789c-45fa-4471-b22b-0eb395d80f48",
   "metadata": {},
   "outputs": [],
   "source": [
    "txt='Hello'"
   ]
  },
  {
   "cell_type": "code",
   "execution_count": 3,
   "id": "ba581097-e884-4c4c-a8b4-8aff5f081ba4",
   "metadata": {},
   "outputs": [
    {
     "data": {
      "text/plain": [
       "'H'"
      ]
     },
     "execution_count": 3,
     "metadata": {},
     "output_type": "execute_result"
    }
   ],
   "source": [
    "txt[0]"
   ]
  },
  {
   "cell_type": "code",
   "execution_count": 4,
   "id": "dbbbb0e3-af8a-4860-bde8-8734f9d4cb61",
   "metadata": {},
   "outputs": [
    {
     "data": {
      "text/plain": [
       "['Hello']"
      ]
     },
     "execution_count": 4,
     "metadata": {},
     "output_type": "execute_result"
    }
   ],
   "source": [
    "txt.rsplit()"
   ]
  },
  {
   "cell_type": "code",
   "execution_count": 5,
   "id": "aa105b7e-c457-4624-85c9-73b49d58a85a",
   "metadata": {},
   "outputs": [
    {
     "data": {
      "text/plain": [
       "['Hello']"
      ]
     },
     "execution_count": 5,
     "metadata": {},
     "output_type": "execute_result"
    }
   ],
   "source": [
    "txt.split()"
   ]
  },
  {
   "cell_type": "code",
   "execution_count": 6,
   "id": "5e9d694a-3fe5-4ee0-a1e1-984ac0e3e6b6",
   "metadata": {},
   "outputs": [
    {
     "data": {
      "text/plain": [
       "'Hello'"
      ]
     },
     "execution_count": 6,
     "metadata": {},
     "output_type": "execute_result"
    }
   ],
   "source": [
    "txt"
   ]
  },
  {
   "cell_type": "code",
   "execution_count": 7,
   "id": "4719a04e-ab09-4053-bf3e-d3ded2373695",
   "metadata": {},
   "outputs": [
    {
     "data": {
      "text/plain": [
       "'Hello'"
      ]
     },
     "execution_count": 7,
     "metadata": {},
     "output_type": "execute_result"
    }
   ],
   "source": [
    "txt"
   ]
  },
  {
   "cell_type": "code",
   "execution_count": 8,
   "id": "c6167fb6-60b8-4c83-9dc4-6ec3b3679d86",
   "metadata": {},
   "outputs": [],
   "source": [
    "txt1= txt+txt"
   ]
  },
  {
   "cell_type": "code",
   "execution_count": 9,
   "id": "6b421784-61ad-4486-80a0-bbdab255f745",
   "metadata": {},
   "outputs": [
    {
     "data": {
      "text/plain": [
       "'HelloHello'"
      ]
     },
     "execution_count": 9,
     "metadata": {},
     "output_type": "execute_result"
    }
   ],
   "source": [
    "txt1"
   ]
  },
  {
   "cell_type": "code",
   "execution_count": 10,
   "id": "e5c5f8d9-c425-497e-b1ac-b78fd283a1c7",
   "metadata": {},
   "outputs": [
    {
     "data": {
      "text/plain": [
       "'Hello'"
      ]
     },
     "execution_count": 10,
     "metadata": {},
     "output_type": "execute_result"
    }
   ],
   "source": [
    "txt"
   ]
  },
  {
   "cell_type": "code",
   "execution_count": 22,
   "id": "6985fab5-cbb7-4796-8f91-ab7123b4cea1",
   "metadata": {},
   "outputs": [
    {
     "data": {
      "text/plain": [
       "'Hello'"
      ]
     },
     "execution_count": 22,
     "metadata": {},
     "output_type": "execute_result"
    }
   ],
   "source": [
    "txt"
   ]
  },
  {
   "cell_type": "code",
   "execution_count": 23,
   "id": "5e6f31db-6d07-43c4-a4bf-ebda8d696822",
   "metadata": {},
   "outputs": [
    {
     "data": {
      "text/plain": [
       "'eeelloeeello'"
      ]
     },
     "execution_count": 23,
     "metadata": {},
     "output_type": "execute_result"
    }
   ],
   "source": [
    "txt1"
   ]
  },
  {
   "cell_type": "code",
   "execution_count": 24,
   "id": "9ff85b75-81c8-4ea8-9468-8281995f440d",
   "metadata": {},
   "outputs": [],
   "source": [
    "txt1=txt"
   ]
  },
  {
   "cell_type": "code",
   "execution_count": 25,
   "id": "88ef9fe1-1fb2-441c-8ef3-06ba43b31c9a",
   "metadata": {},
   "outputs": [
    {
     "data": {
      "text/plain": [
       "'Hello'"
      ]
     },
     "execution_count": 25,
     "metadata": {},
     "output_type": "execute_result"
    }
   ],
   "source": [
    "txt1"
   ]
  },
  {
   "cell_type": "code",
   "execution_count": 26,
   "id": "859ec67d-f070-4d09-9b7a-937d4b73ce37",
   "metadata": {},
   "outputs": [],
   "source": [
    "txt1=txt[0]*3+txt[1:]"
   ]
  },
  {
   "cell_type": "code",
   "execution_count": 27,
   "id": "60300710-6bf5-4340-8155-8c9d9cad47f4",
   "metadata": {},
   "outputs": [
    {
     "data": {
      "text/plain": [
       "'HHHello'"
      ]
     },
     "execution_count": 27,
     "metadata": {},
     "output_type": "execute_result"
    }
   ],
   "source": [
    "txt1"
   ]
  },
  {
   "cell_type": "code",
   "execution_count": 30,
   "id": "bacb02f2-ba72-4ae3-af16-5fa8ff944ef4",
   "metadata": {},
   "outputs": [],
   "source": [
    "txt1=txt1[3]*3+txt1[4:]"
   ]
  },
  {
   "cell_type": "code",
   "execution_count": 47,
   "id": "8ac83338-d0e9-4870-98a3-869db14b89e7",
   "metadata": {},
   "outputs": [
    {
     "data": {
      "text/plain": [
       "[1, 2, 11]"
      ]
     },
     "execution_count": 47,
     "metadata": {},
     "output_type": "execute_result"
    }
   ],
   "source": [
    "a=1\n",
    "b=2\n",
    "c=11\n",
    "d=[a,b,c]\n",
    "d"
   ]
  },
  {
   "cell_type": "code",
   "execution_count": 51,
   "id": "f6f23e67-5d3e-4a6c-88ed-121030270b99",
   "metadata": {},
   "outputs": [
    {
     "data": {
      "text/plain": [
       "False"
      ]
     },
     "execution_count": 51,
     "metadata": {},
     "output_type": "execute_result"
    }
   ],
   "source": [
    "(b or c)==11"
   ]
  },
  {
   "cell_type": "code",
   "execution_count": 32,
   "id": "8a597d19-28f8-49eb-a095-8c10984b4d32",
   "metadata": {},
   "outputs": [],
   "source": [
    "# PAPER DOLL: Given a string, return a string where for every character in the original there are three \n",
    "def paper_doll(text):\n",
    "    result=''\n",
    "    for char in text:\n",
    "        result=result+char*3\n",
    "    return result"
   ]
  },
  {
   "cell_type": "code",
   "execution_count": 33,
   "id": "c3bf6f88-cda7-4162-bcfb-7368e9886e28",
   "metadata": {},
   "outputs": [
    {
     "data": {
      "text/plain": [
       "'HHHeeellllllooo'"
      ]
     },
     "execution_count": 33,
     "metadata": {},
     "output_type": "execute_result"
    }
   ],
   "source": [
    "# Check\n",
    "paper_doll('Hello')"
   ]
  },
  {
   "cell_type": "code",
   "execution_count": 34,
   "id": "44ab9b5a-43a4-45fe-9247-b46872d9e84b",
   "metadata": {},
   "outputs": [
    {
     "data": {
      "text/plain": [
       "'MMMiiissssssiiissssssiiippppppiii'"
      ]
     },
     "execution_count": 34,
     "metadata": {},
     "output_type": "execute_result"
    }
   ],
   "source": [
    "# Check\n",
    "paper_doll('Mississippi')"
   ]
  },
  {
   "cell_type": "code",
   "execution_count": 35,
   "id": "5d33df0b-3af6-4c94-b169-7d1f0223a637",
   "metadata": {},
   "outputs": [],
   "source": [
    "str='hello world'"
   ]
  },
  {
   "cell_type": "code",
   "execution_count": 38,
   "id": "8e1d9ce0-3d42-4817-a852-462c7b9c41d2",
   "metadata": {},
   "outputs": [
    {
     "name": "stdout",
     "output_type": "stream",
     "text": [
      "0\n",
      "1\n",
      "2\n",
      "3\n",
      "4\n",
      "5\n",
      "6\n",
      "7\n",
      "8\n",
      "9\n",
      "10\n"
     ]
    }
   ],
   "source": [
    "i=0\n",
    "for char in str:\n",
    "    print (i)\n",
    "    i=i+1"
   ]
  },
  {
   "cell_type": "code",
   "execution_count": 74,
   "id": "73c0d5cd-8f4f-4d70-9dec-f48bdda892d8",
   "metadata": {},
   "outputs": [],
   "source": [
    "# BLACKJACK: Given three integers between 1 and 11, if their sum is less than or equal to 21, return their sum. \n",
    "# If their sum exceeds 21 and there's an eleven, reduce the total sum by 10. \n",
    "# Finally, if the sum (even after adjustment) exceeds 21, return 'BUST\n",
    "def blackjack(a,b,c):\n",
    "    sum=a+b+c\n",
    "    if sum<22:\n",
    "        return sum\n",
    "    elif (a==11) or (b==1) or (c==11):\n",
    "        sum=sum-10\n",
    "        if sum<22:\n",
    "            return sum\n",
    "    else:\n",
    "        return'BUST'"
   ]
  },
  {
   "cell_type": "code",
   "execution_count": 75,
   "id": "361bc793-a130-42fa-9c60-3db9298dc894",
   "metadata": {},
   "outputs": [
    {
     "data": {
      "text/plain": [
       "18"
      ]
     },
     "execution_count": 75,
     "metadata": {},
     "output_type": "execute_result"
    }
   ],
   "source": [
    "blackjack(5,6,7)"
   ]
  },
  {
   "cell_type": "code",
   "execution_count": 76,
   "id": "83054612-a9a2-4c2e-b5ac-8284bce48e8f",
   "metadata": {},
   "outputs": [
    {
     "data": {
      "text/plain": [
       "'BUST'"
      ]
     },
     "execution_count": 76,
     "metadata": {},
     "output_type": "execute_result"
    }
   ],
   "source": [
    "blackjack(9,9,9)"
   ]
  },
  {
   "cell_type": "code",
   "execution_count": 77,
   "id": "08ff65f2-1a2d-436a-8a98-ea15b934a098",
   "metadata": {},
   "outputs": [
    {
     "data": {
      "text/plain": [
       "19"
      ]
     },
     "execution_count": 77,
     "metadata": {},
     "output_type": "execute_result"
    }
   ],
   "source": [
    "blackjack(9,9,11)"
   ]
  },
  {
   "cell_type": "code",
   "execution_count": 49,
   "id": "0990dc97-e462-45df-aa02-77329718d24c",
   "metadata": {},
   "outputs": [],
   "source": [
    "# SUMMER OF '69: Return the sum of the numbers in the array, except ignore sections of numbers starting with a 6 and extending to the next 9 \n",
    "# (every 6 will be followed by at least one 9). Return 0 for no numbers.\n",
    "def summer_69(arr):\n",
    "    sum=0\n",
    "    sum1=0\n",
    "    if 6 in arr:\n",
    "        x=arr.index(6)\n",
    "        y=arr.index(9)\n",
    "        for i in range (0,x):\n",
    "            sum=sum+arr[i]\n",
    "        for j in range (y+1,len(arr)):\n",
    "            sum1=sum1+arr[j]\n",
    "    else:\n",
    "         for num in arr:\n",
    "            sum=sum+num\n",
    "            \n",
    "    return sum+sum1\n",
    "    "
   ]
  },
  {
   "cell_type": "code",
   "execution_count": 50,
   "id": "fbf198c5-980d-4c3a-82b2-8b10483617cb",
   "metadata": {},
   "outputs": [
    {
     "data": {
      "text/plain": [
       "90"
      ]
     },
     "execution_count": 50,
     "metadata": {},
     "output_type": "execute_result"
    }
   ],
   "source": [
    "# Check\n",
    "summer_69([1,2,3,4,5,6,7,8,9,10,11,12,13,14,15])"
   ]
  },
  {
   "cell_type": "code",
   "execution_count": 51,
   "id": "41663ab1-12ac-456d-9084-4bdbec705ab0",
   "metadata": {},
   "outputs": [
    {
     "data": {
      "text/plain": [
       "9"
      ]
     },
     "execution_count": 51,
     "metadata": {},
     "output_type": "execute_result"
    }
   ],
   "source": [
    "summer_69([4, 5, 6, 7, 8, 9])"
   ]
  },
  {
   "cell_type": "code",
   "execution_count": 52,
   "id": "952b9034-1ba4-47d4-b357-73790f1d918d",
   "metadata": {},
   "outputs": [
    {
     "data": {
      "text/plain": [
       "14"
      ]
     },
     "execution_count": 52,
     "metadata": {},
     "output_type": "execute_result"
    }
   ],
   "source": [
    "summer_69([2, 1, 6, 9, 11])"
   ]
  },
  {
   "cell_type": "code",
   "execution_count": 55,
   "id": "0033e4ef-11fc-4858-a54f-cfe9e10c484b",
   "metadata": {},
   "outputs": [
    {
     "data": {
      "text/plain": [
       "1"
      ]
     },
     "execution_count": 55,
     "metadata": {},
     "output_type": "execute_result"
    }
   ],
   "source": [
    "summer_69([1])"
   ]
  },
  {
   "cell_type": "code",
   "execution_count": 74,
   "id": "7d1e959b-4578-4c2c-9be3-7530db195ba9",
   "metadata": {},
   "outputs": [],
   "source": [
    "a=[1,2,4,0,7,5]"
   ]
  },
  {
   "cell_type": "code",
   "execution_count": 75,
   "id": "53ca1b6e-6625-4125-8948-58cfc506ef94",
   "metadata": {},
   "outputs": [
    {
     "data": {
      "text/plain": [
       "[1, 2, 4, 0, 7, 5]"
      ]
     },
     "execution_count": 75,
     "metadata": {},
     "output_type": "execute_result"
    }
   ],
   "source": [
    "a"
   ]
  },
  {
   "cell_type": "code",
   "execution_count": 76,
   "id": "8e1bf7ec-ab67-4b4d-98c1-043c6623ca9a",
   "metadata": {},
   "outputs": [
    {
     "data": {
      "text/plain": [
       "True"
      ]
     },
     "execution_count": 76,
     "metadata": {},
     "output_type": "execute_result"
    }
   ],
   "source": [
    "0 in a"
   ]
  },
  {
   "cell_type": "code",
   "execution_count": 77,
   "id": "c6c25cf2-f091-49fd-8c49-0ec2a012c404",
   "metadata": {},
   "outputs": [
    {
     "data": {
      "text/plain": [
       "False"
      ]
     },
     "execution_count": 77,
     "metadata": {},
     "output_type": "execute_result"
    }
   ],
   "source": [
    "17 in a"
   ]
  },
  {
   "cell_type": "code",
   "execution_count": 78,
   "id": "6fa2becc-3c97-42a2-b7ad-7893534084f9",
   "metadata": {},
   "outputs": [
    {
     "name": "stdout",
     "output_type": "stream",
     "text": [
      "yo\n"
     ]
    }
   ],
   "source": [
    "if 0 in a:\n",
    "    if 0 in a:\n",
    "        if 7 in a:\n",
    "            print ('yo')"
   ]
  },
  {
   "cell_type": "code",
   "execution_count": null,
   "id": "f8c8f0bd-26da-4302-ba2a-5d28bde9534c",
   "metadata": {},
   "outputs": [],
   "source": []
  },
  {
   "cell_type": "code",
   "execution_count": 68,
   "id": "b8126b40-32d7-40f4-942f-67e769210852",
   "metadata": {},
   "outputs": [
    {
     "data": {
      "text/plain": [
       "[1, 2, 4, 0, 0, 7, 5]"
      ]
     },
     "execution_count": 68,
     "metadata": {},
     "output_type": "execute_result"
    }
   ],
   "source": [
    "a"
   ]
  },
  {
   "cell_type": "code",
   "execution_count": 3,
   "id": "3df41f71-73a9-40d5-879e-a92ab3cbab4f",
   "metadata": {},
   "outputs": [],
   "source": [
    "# SPY GAME: Write a function that takes in a list of integers and returns True if it contains 007 in order\n",
    "def spy_game(nums):\n",
    "    check=[0,0,7,'x']\n",
    "    for num in nums:\n",
    "        if num==check[0]:\n",
    "            check.pop(0)\n",
    "    return len(check)==1\n",
    "            "
   ]
  },
  {
   "cell_type": "code",
   "execution_count": 4,
   "id": "e465bb36-752f-439f-8036-de24f83fb567",
   "metadata": {},
   "outputs": [
    {
     "data": {
      "text/plain": [
       "True"
      ]
     },
     "execution_count": 4,
     "metadata": {},
     "output_type": "execute_result"
    }
   ],
   "source": [
    "spy_game([1,2,4,0,0,7,5,0])"
   ]
  },
  {
   "cell_type": "code",
   "execution_count": 5,
   "id": "c2e83f0a-7764-43ea-b520-7e2dddb2317d",
   "metadata": {},
   "outputs": [
    {
     "data": {
      "text/plain": [
       "True"
      ]
     },
     "execution_count": 5,
     "metadata": {},
     "output_type": "execute_result"
    }
   ],
   "source": [
    "spy_game([1,0,2,4,0,5,7])"
   ]
  },
  {
   "cell_type": "code",
   "execution_count": 6,
   "id": "ec3a34a2-0924-4aa5-b99f-41c993865381",
   "metadata": {},
   "outputs": [
    {
     "data": {
      "text/plain": [
       "False"
      ]
     },
     "execution_count": 6,
     "metadata": {},
     "output_type": "execute_result"
    }
   ],
   "source": [
    "spy_game([1,7,2,0,4,5,0])"
   ]
  },
  {
   "cell_type": "code",
   "execution_count": 76,
   "id": "c89cc67c-4bce-44ca-ad02-aa775b2bf033",
   "metadata": {},
   "outputs": [],
   "source": [
    "def count_primes(num):\n",
    "    #checking for number 0 and 1\n",
    "    if num<2:\n",
    "        return (0)\n",
    "    # for numbers 2 and above\n",
    "\n",
    "    # Storing primes\n",
    "    primes=[2]\n",
    "    # starting to check for primes after 2\n",
    "    x=3\n",
    "    # checking primes till the given number from 3 skipping even numbers\n",
    "    while x <= num:\n",
    "        for y in range (3,x,2):\n",
    "            if x%y==0:\n",
    "                x+=2\n",
    "                break\n",
    "        else:\n",
    "            primes.append(x)\n",
    "            x+=2\n",
    "    print (primes)\n",
    "    return len(primes)\n",
    "        \n",
    "    \n",
    "        \n",
    "\n",
    "        "
   ]
  },
  {
   "cell_type": "code",
   "execution_count": 78,
   "id": "cb8a9c27-b2dc-48ee-ac53-364b2ef7227d",
   "metadata": {},
   "outputs": [
    {
     "name": "stdout",
     "output_type": "stream",
     "text": [
      "[2, 3, 5, 7, 11, 13, 17, 19, 23, 29, 31, 37, 41, 43, 47, 53, 59, 61, 67, 71, 73, 79, 83, 89, 97]\n"
     ]
    },
    {
     "data": {
      "text/plain": [
       "25"
      ]
     },
     "execution_count": 78,
     "metadata": {},
     "output_type": "execute_result"
    }
   ],
   "source": [
    "count_primes(100)"
   ]
  },
  {
   "cell_type": "code",
   "execution_count": 79,
   "id": "3b0af16a-a7e1-43cc-8ab8-12bde34aa9bd",
   "metadata": {},
   "outputs": [],
   "source": [
    "def print_big(letter):\n",
    "    patterns = {1:'  *  ',2:' * * ',3:'*   *',4:'*****',5:'**** ',6:'   * ',7:' *   ',8:'*   * ',9:'*    '}\n",
    "    alphabet = {'A':[1,2,4,3,3],'B':[5,3,5,3,5],'C':[4,9,9,9,4],'D':[5,3,3,3,5],'E':[4,9,4,9,4]}\n",
    "    for pattern in alphabet[letter.upper()]:\n",
    "        print(patterns[pattern])"
   ]
  },
  {
   "cell_type": "code",
   "execution_count": 89,
   "id": "5cb52489-1299-4ce1-8427-4269dd297851",
   "metadata": {},
   "outputs": [
    {
     "name": "stdout",
     "output_type": "stream",
     "text": [
      "*****\n",
      "*    \n",
      "*    \n",
      "*    \n",
      "*****\n"
     ]
    }
   ],
   "source": [
    "print_big('c')"
   ]
  },
  {
   "cell_type": "code",
   "execution_count": null,
   "id": "8df4d43c-75af-4a01-be52-4988665dc224",
   "metadata": {},
   "outputs": [],
   "source": []
  }
 ],
 "metadata": {
  "kernelspec": {
   "display_name": "Python 3 (ipykernel)",
   "language": "python",
   "name": "python3"
  },
  "language_info": {
   "codemirror_mode": {
    "name": "ipython",
    "version": 3
   },
   "file_extension": ".py",
   "mimetype": "text/x-python",
   "name": "python",
   "nbconvert_exporter": "python",
   "pygments_lexer": "ipython3",
   "version": "3.12.0"
  }
 },
 "nbformat": 4,
 "nbformat_minor": 5
}
